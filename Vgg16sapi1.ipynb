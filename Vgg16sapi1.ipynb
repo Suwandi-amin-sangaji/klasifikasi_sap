{
  "nbformat": 4,
  "nbformat_minor": 0,
  "metadata": {
    "colab": {
      "private_outputs": true,
      "provenance": [],
      "include_colab_link": true
    },
    "kernelspec": {
      "name": "python3",
      "display_name": "Python 3"
    },
    "language_info": {
      "name": "python"
    },
    "accelerator": "GPU",
    "gpuClass": "standard"
  },
  "cells": [
    {
      "cell_type": "markdown",
      "metadata": {
        "id": "view-in-github",
        "colab_type": "text"
      },
      "source": [
        "<a href=\"https://colab.research.google.com/github/Suwandi-amin-sangaji/klasifikasi_sap/blob/main/Vgg16sapi1.ipynb\" target=\"_parent\"><img src=\"https://colab.research.google.com/assets/colab-badge.svg\" alt=\"Open In Colab\"/></a>"
      ]
    },
    {
      "cell_type": "markdown",
      "source": [
        "#Import Data / libarary"
      ],
      "metadata": {
        "id": "c4PJa8PhKOpO"
      }
    },
    {
      "cell_type": "code",
      "execution_count": null,
      "metadata": {
        "id": "Ohhoyzzkecgc"
      },
      "outputs": [],
      "source": [
        "from tensorflow.keras.models import Sequential\n",
        "from tensorflow.keras.layers import Dense, Dropout, Flatten\n",
        "import os\n",
        "import random\n",
        "import numpy as np\n",
        "from tensorflow import keras\n",
        "import keras_preprocessing\n",
        "from keras_preprocessing import image\n",
        "from keras_preprocessing.image import ImageDataGenerator"
      ]
    },
    {
      "cell_type": "code",
      "source": [
        "from google.colab import drive\n",
        "drive.mount('/content/drive')"
      ],
      "metadata": {
        "id": "wyP4H57LfpMM"
      },
      "execution_count": null,
      "outputs": []
    },
    {
      "cell_type": "markdown",
      "source": [
        "#Visualisasi Data"
      ],
      "metadata": {
        "id": "9RbnVkKdJow_"
      }
    },
    {
      "cell_type": "code",
      "source": [
        "def create_standard_directories():\n",
        "    root_dir = '/content/drive/MyDrive/dataset/Sapi/sapi'\n",
        "    subdirs = ['train/', 'val/']\n",
        "    for subdir in subdirs:\n",
        "        classes = ['Sapi Sehat', 'Sapi Sakit']\n",
        "        for label_dir in classes:\n",
        "            newdir = root_dir + subdir + label_dir\n",
        "            os.makedirs(newdir, exist_ok=True)\n",
        "            \n",
        "create_standard_directories()"
      ],
      "metadata": {
        "id": "1vWx6PQnftbL"
      },
      "execution_count": null,
      "outputs": []
    },
    {
      "cell_type": "code",
      "source": [
        "from shutil import move\n",
        "from tqdm import tqdm\n",
        "\n",
        "def move_images_into_directories():\n",
        "    train_dir = '/content/drive/MyDrive/dataset/Sapi'\n",
        "    random.seed(1)\n",
        "    validation_ratio = 0.25\n",
        "    for img in tqdm(os.listdir(train_dir)):\n",
        "        img_path = train_dir + img\n",
        "        dst_dir = '/content/drive/MyDrive/dataset/sapi/train/'\n",
        "        if random.random() < validation_ratio:\n",
        "            dst_dir = '/content/drive/MyDrive/dataset/sapi/val/'\n",
        "            \n",
        "        if img.startswith('Sapi Sakit'):\n",
        "            dst = dst_dir + 'Sapi Sakit/' + img\n",
        "            move(img_path, dst)\n",
        "        \n",
        "        elif img.startswith('Sapi Sehat'):\n",
        "            dst = dst_dir + 'Sapi Sehat/' + img\n",
        "            move(img_path, dst)\n",
        "        \n",
        "        \n",
        "move_images_into_directories()"
      ],
      "metadata": {
        "id": "TD5NCpO3ftUB"
      },
      "execution_count": null,
      "outputs": []
    },
    {
      "cell_type": "markdown",
      "source": [
        "#Model Vgg16"
      ],
      "metadata": {
        "id": "q-TfHoTBJtbR"
      }
    },
    {
      "cell_type": "code",
      "source": [
        "from tensorflow.keras.applications import VGG16\n",
        "\n",
        "vgg_base = VGG16(weights='imagenet', \n",
        "                 include_top=False, \n",
        "                 input_shape=(150, 150, 3)\n",
        "                 )\n",
        "\n",
        "vgg_base.summary()"
      ],
      "metadata": {
        "id": "5y4Kvlpc2AGY"
      },
      "execution_count": null,
      "outputs": []
    },
    {
      "cell_type": "code",
      "source": [
        "for layer in vgg_base.layers:\n",
        "    layer.trainable = False\n",
        "  \n",
        "vgg_base.summary()"
      ],
      "metadata": {
        "id": "dP6HSoQS2TVI"
      },
      "execution_count": null,
      "outputs": []
    },
    {
      "cell_type": "code",
      "source": [
        "model = Sequential([vgg_base,\n",
        "                    Flatten(),\n",
        "                    Dropout(0.3),\n",
        "                    Dense(512, activation='relu'),\n",
        "                    Dropout(0.2),\n",
        "                    Dense(1024, activation='relu'),\n",
        "                    Dropout(0.1),\n",
        "                    Dense(1, activation='sigmoid')\n",
        "                    ])\n",
        "model.summary()"
      ],
      "metadata": {
        "id": "CfaWV8Al2W0m"
      },
      "execution_count": null,
      "outputs": []
    },
    {
      "cell_type": "markdown",
      "source": [
        "#MElakuakan Compile \n"
      ],
      "metadata": {
        "id": "i-acctxJJzVJ"
      }
    },
    {
      "cell_type": "code",
      "source": [
        "model.compile(optimizer='adam', loss='binary_crossentropy', metrics=['accuracy'])"
      ],
      "metadata": {
        "id": "CkvVibp_2Z3k"
      },
      "execution_count": null,
      "outputs": []
    },
    {
      "cell_type": "markdown",
      "source": [
        "#Augmentasi Data"
      ],
      "metadata": {
        "id": "3iHBfOyNJ5lc"
      }
    },
    {
      "cell_type": "code",
      "source": [
        "from tensorflow.keras.preprocessing.image import ImageDataGenerator\n",
        "\n",
        "train_datagen = ImageDataGenerator(rescale = 1./255,\n",
        "                             horizontal_flip=True,\n",
        "                             width_shift_range=0.2,\n",
        "                             height_shift_range=0.2,\n",
        "                             rotation_range=40,\n",
        "                             shear_range=0.2,\n",
        "                             fill_mode='nearest'\n",
        "                                  )\n",
        "\n",
        "validation_datagen = ImageDataGenerator(rescale=1./255)\n",
        "\n",
        "train_generator = train_datagen.flow_from_directory('/content/drive/MyDrive/dataset/Sapi/train',\n",
        "                                              batch_size = 32,\n",
        "                                              target_size = (150, 150),\n",
        "                                              class_mode = 'binary'\n",
        "                                              )\n",
        "\n",
        "validation_generator = validation_datagen.flow_from_directory('/content/drive/MyDrive/dataset/Sapi/val',\n",
        "                                                    batch_size = 32,\n",
        "                                                    target_size = (150, 150),\n",
        "                                                    class_mode = 'binary'\n",
        "                                                    )"
      ],
      "metadata": {
        "id": "_lvNHKK82cWC"
      },
      "execution_count": null,
      "outputs": []
    },
    {
      "cell_type": "markdown",
      "source": [
        "#Traning Data"
      ],
      "metadata": {
        "id": "CqaLEBysJ92g"
      }
    },
    {
      "cell_type": "code",
      "source": [
        "history = model.fit_generator(train_generator,\n",
        "                    epochs=15,\n",
        "                    validation_data=validation_generator\n",
        "                   )"
      ],
      "metadata": {
        "id": "P4v0AG424x0S"
      },
      "execution_count": null,
      "outputs": []
    },
    {
      "cell_type": "markdown",
      "source": [
        "#Evaluasi Data\n"
      ],
      "metadata": {
        "id": "SCJ1wRrKKAP2"
      }
    },
    {
      "cell_type": "code",
      "source": [
        "#evaluasi model\n",
        "score = model.evaluate(validation_generator)\n",
        "print('Test Loss :',score[0])\n",
        "print('Test Accuracy :',score[1])"
      ],
      "metadata": {
        "id": "qMedM6btG1Ms"
      },
      "execution_count": null,
      "outputs": []
    },
    {
      "cell_type": "markdown",
      "source": [
        "#Plotting Data Traning Dan Validation\n"
      ],
      "metadata": {
        "id": "cljIdfArKGKH"
      }
    },
    {
      "cell_type": "code",
      "source": [
        "#plotting training values\n",
        "import matplotlib.pyplot as plt\n",
        "import seaborn as sns\n",
        "sns.set()\n",
        "\n",
        "train_acc = history.history['accuracy']\n",
        "val_acc = history.history['val_accuracy']\n",
        "train_loss = history.history['loss']\n",
        "val_loss = history.history['val_loss']\n",
        "\n",
        "epochs = range(1, len(train_acc) + 1)\n",
        "plt.figure(figsize=(10,6))\n",
        "plt.plot(epochs, train_acc, 'r', label = 'Training accuracy')\n",
        "plt.plot(epochs, val_acc, 'b-*', label = 'Validation accuracy')\n",
        "plt.title('Training and validation accuracy')\n",
        "plt.legend()\n",
        "plt.figure()\n",
        "plt.show()\n",
        "\n",
        "\n",
        "plt.figure(figsize=(10,6))\n",
        "plt.plot(epochs, train_loss, 'b-*', label = 'Training loss')\n",
        "plt.plot(epochs, val_loss, 'r', label = 'Validation loss')\n",
        "plt.title('Training and validation loss')\n",
        "plt.legend()\n",
        "plt.show()"
      ],
      "metadata": {
        "id": "xVYACbsz4xrQ"
      },
      "execution_count": null,
      "outputs": []
    },
    {
      "cell_type": "markdown",
      "source": [
        "#Save Model"
      ],
      "metadata": {
        "id": "VKuZlH-tKiyr"
      }
    },
    {
      "cell_type": "code",
      "source": [
        "model.save('/content/drive/MyDrive/dataset/Sapi/VGG_model.h5')"
      ],
      "metadata": {
        "id": "0Bu71nfxHlEv"
      },
      "execution_count": null,
      "outputs": []
    },
    {
      "cell_type": "markdown",
      "source": [
        "#Testing "
      ],
      "metadata": {
        "id": "jsmjO93mKK2w"
      }
    },
    {
      "cell_type": "code",
      "source": [
        "from tensorflow.keras.preprocessing import image\n",
        "output_class = ['Sapi Sehat', 'Sapi Sakit']\n",
        "def cow_prediction(new_image):\n",
        "  test_image = image.load_img(new_image, target_size = (150,150))\n",
        "  plt.axis(\"off\")\n",
        "  plt.imshow(test_image)\n",
        "  plt.show()\n",
        " \n",
        "  test_image = image.img_to_array(test_image) / 255\n",
        "  test_image = np.expand_dims(test_image, axis=0)\n",
        "\n",
        "  predicted_array = model.predict(test_image)\n",
        "  predicted_value = output_class[np.argmax(predicted_array)]\n",
        "  predicted_accuracy = round(np.max(predicted_array) * 100, 2)\n",
        "\n",
        "  print(predicted_value, \" with \", predicted_accuracy, \" % accuracy\")"
      ],
      "metadata": {
        "id": "w2fYf2VjN-23"
      },
      "execution_count": null,
      "outputs": []
    },
    {
      "cell_type": "code",
      "source": [
        "cow_prediction('/content/drive/MyDrive/dataset/Sapi/sapi/val/Sapi Sehat/img2450.jpg')"
      ],
      "metadata": {
        "id": "ZvT-yu86OR0Y"
      },
      "execution_count": null,
      "outputs": []
    }
  ]
}